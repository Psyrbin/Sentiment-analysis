{
 "cells": [
  {
   "cell_type": "markdown",
   "metadata": {},
   "source": [
    "1)\n",
    "$$\n",
    "tanh(z) = \\frac{e^z-e^{-z}}{e^z+e^{-z}} = \\frac{e^{2z}-1}{e^{2z}+1} = 1 - \\frac{2}{e^{2z}+1}\n",
    "\\\\\n",
    "tanh'(z) = \\left( \\frac{sh(z)}{ch(z)}\\right)' = \\frac{ch^2(z) - sh^2(z)}{ch^2(z)} = 1 - \\frac{sh^2(z)}{ch^2(z)} = 1 - tanh^2(z) \n",
    "$$"
   ]
  },
  {
   "cell_type": "markdown",
   "metadata": {},
   "source": [
    "2) \n",
    "$$\n",
    "L(W^{(1)}, W^{(2)}, x_1, \\cdots , x_N) = -\\frac{1}{N} \\sum_{i=1}^N \\sum_{j=1}^K y_{\\{i\\},j}(log(h(x_{\\{i\\}})_j)) + (1 - y_{\\{i\\},j})(log(1 - h(x_{\\{i\\}})_j)) + \\alpha \\sum_{l=1}^2 \\sum_{i=1}^{s_l} \\sum_{j=1}^{s_{l-1}+1} (W^{(l)}_{ij})^2\n",
    "\\\\\n",
    "h(x) = softmax(W^{(2)}[1,tanh(W^{(1)}[1,x])])\n",
    "$$"
   ]
  },
  {
   "cell_type": "markdown",
   "metadata": {},
   "source": [
    "3)\n",
    "$$\n",
    "(N+1)\\cdot H \\cdot(H+1)\\cdot K = (N+1)K(H^2+H)\n",
    "$$"
   ]
  },
  {
   "cell_type": "markdown",
   "metadata": {},
   "source": [
    "4)\n",
    "$$\n",
    "\\delta^{(2)} = softmax(z^{(2)}) - y\n",
    "$$"
   ]
  },
  {
   "cell_type": "markdown",
   "metadata": {},
   "source": [
    "5)\n",
    "$$\n",
    "\\delta^{(l)} = (W^{(l+1)})^T\\delta^{(l+1)} \\circ (1 - tanh^2(z_l))\n",
    "$$"
   ]
  },
  {
   "cell_type": "markdown",
   "metadata": {},
   "source": [
    "6)\n",
    "$$\n",
    "\\frac{\\partial}{\\partial W^{(l)}_{ij}} L = \\frac{1}{N} \\sum_{k=1}^N a^{(l)}_j \\delta_i^{(l+1)} + 2N\\alpha (W^{(l)}_{ij})^2\n",
    "$$"
   ]
  }
 ],
 "metadata": {
  "kernelspec": {
   "display_name": "Python 3",
   "language": "python",
   "name": "python3"
  },
  "language_info": {
   "codemirror_mode": {
    "name": "ipython",
    "version": 3
   },
   "file_extension": ".py",
   "mimetype": "text/x-python",
   "name": "python",
   "nbconvert_exporter": "python",
   "pygments_lexer": "ipython3",
   "version": "3.6.4"
  }
 },
 "nbformat": 4,
 "nbformat_minor": 2
}
