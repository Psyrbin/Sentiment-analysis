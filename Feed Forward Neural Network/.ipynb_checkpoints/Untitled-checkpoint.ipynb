{
 "cells": [
  {
   "cell_type": "code",
   "execution_count": 1,
   "metadata": {},
   "outputs": [],
   "source": [
    "import random\n",
    "import os\n",
    "import re\n",
    "import numpy as np\n",
    "from scipy.sparse import csr_matrix\n",
    "from collections import defaultdict\n",
    "from math import log\n",
    "from math import exp"
   ]
  },
  {
   "cell_type": "code",
   "execution_count": 2,
   "metadata": {},
   "outputs": [],
   "source": [
    "data_dir = '../FILIMDB'"
   ]
  },
  {
   "cell_type": "code",
   "execution_count": 3,
   "metadata": {},
   "outputs": [],
   "source": [
    "def load_data(file_name):\n",
    "    \"\"\"\n",
    "    Reads specified file, returns list of strings\n",
    "    :param file_name: file name in data_dir folder\n",
    "    :returns list of strings\n",
    "    \"\"\"\n",
    "    print('Loading %s' % file_name)\n",
    "    data_path = os.path.join(data_dir, file_name)\n",
    "    with open(data_path) as input_data:\n",
    "        lines = input_data.readlines()\n",
    "        lines = [l.strip() for l in lines]\n",
    "    \n",
    "    print('Loaded %d lines' % len(lines))\n",
    "    return lines"
   ]
  },
  {
   "cell_type": "code",
   "execution_count": 4,
   "metadata": {},
   "outputs": [
    {
     "name": "stdout",
     "output_type": "stream",
     "text": [
      "Loading train.texts\n",
      "Loaded 25000 lines\n",
      "Loading train.labels\n",
      "Loaded 25000 lines\n",
      "Loading dev.texts\n",
      "Loaded 25000 lines\n",
      "Loading dev.labels\n",
      "Loaded 25000 lines\n",
      "Loading test.texts\n",
      "Loaded 10599 lines\n"
     ]
    }
   ],
   "source": [
    "train_texts, train_labels = load_data('train.texts'), load_data('train.labels')\n",
    "dev_texts, dev_labels = load_data('dev.texts'), load_data('dev.labels')\n",
    "test_texts = load_data('test.texts')"
   ]
  },
  {
   "cell_type": "code",
   "execution_count": 5,
   "metadata": {},
   "outputs": [],
   "source": [
    "def tokenize(text):\n",
    "    text = text.lower()\n",
    "    tokens = re.findall('[a-z]+',text)\n",
    "    return tokens\n",
    "tokenized_train_texts = [tokenize(r) for r in train_texts]\n",
    "tokenized_dev_texts = [tokenize(r) for r in dev_texts]"
   ]
  },
  {
   "cell_type": "code",
   "execution_count": 6,
   "metadata": {},
   "outputs": [],
   "source": [
    "def loadGlove(file):\n",
    "    f = open(file,'r')\n",
    "    glove = {}\n",
    "    for entry in f:\n",
    "        entry = entry.split()\n",
    "        word = entry[0]\n",
    "        vector = np.array([float(val) for val in entry[1:]])\n",
    "        glove[word] = vector\n",
    "    return glove"
   ]
  },
  {
   "cell_type": "code",
   "execution_count": 7,
   "metadata": {},
   "outputs": [],
   "source": [
    "def vectorize(text, glove):\n",
    "    res = np.zeros(glove['the'].shape)\n",
    "    count = 0\n",
    "    for token in text:\n",
    "        if token in glove:\n",
    "            res += glove[token]\n",
    "            count += 1\n",
    "    return np.concatenate((np.ones(1), res / count))"
   ]
  },
  {
   "cell_type": "code",
   "execution_count": 8,
   "metadata": {},
   "outputs": [],
   "source": [
    "def sigmoid(x):\n",
    "    return 1 / (1 + np.exp(np.negative(x)))\n",
    "\n",
    "def tanh_der(x):\n",
    "    return 1 - np.power(np.tanh(x), 2)\n",
    "\n",
    "def initialize_weights(dim1, dim2):\n",
    "    return np.random.randn(dim1, dim2) * 0.001"
   ]
  },
  {
   "cell_type": "code",
   "execution_count": 9,
   "metadata": {},
   "outputs": [],
   "source": [
    "def loss(X, y, W1, W2, W3, alpha):\n",
    "    N, M = X.shape\n",
    "    a1 = np.tanh(np.dot(W1, X.T))\n",
    "    a1 = np.concatenate((np.ones((1, a1.shape[1])), a1))\n",
    "    a2 = np.tanh(np.dot(W2, a1))\n",
    "    a2 = np.concatenate((np.ones((1, a2.shape[1])), a2))\n",
    "    h = sigmoid(np.dot(W3, a2)) #[h(x1) h(x2) ... h(xn)]\n",
    "\n",
    "    tmp = np.multiply(y, np.log(h.T))\n",
    "    tmp += np.multiply((1 - y), np.log(1 - h.T))\n",
    "    L = -np.sum(tmp) / N\n",
    "\n",
    "    reg = (np.sum(np.power(W1[:,1:],2)) + np.sum(np.power(W2[:,1:],2)) + np.sum(np.power(W3[:,1:],2)))\n",
    "    L += alpha * reg\n",
    "    return L"
   ]
  },
  {
   "cell_type": "code",
   "execution_count": 10,
   "metadata": {},
   "outputs": [],
   "source": [
    "def feedforward(x, W1, W2, W3):\n",
    "    z1 = np.dot(W1, x.T)\n",
    "    a1 = np.tanh(z1)\n",
    "    a1 = np.concatenate((np.ones((1, 1)), a1))\n",
    "\n",
    "    z2 = np.dot(W2, a1)\n",
    "    a2 = np.tanh(z2)\n",
    "    a2 = np.concatenate((np.ones((1, 1)), a2))\n",
    "    return z1, a1, z2, a2, sigmoid(np.dot(W3, a2))"
   ]
  },
  {
   "cell_type": "code",
   "execution_count": 11,
   "metadata": {},
   "outputs": [],
   "source": [
    "def backpropagation(X, y,  W1, W2, W3, alpha):\n",
    "    N, M = X.shape\n",
    "    W1_grad = np.zeros(W1.shape)\n",
    "    W2_grad = np.zeros(W2.shape)\n",
    "    W3_grad = np.zeros(W3.shape)\n",
    "    for k in range(N):\n",
    "        z1, a1, z2, a2, a3 = feedforward(X[k,:], W1, W2, W3)\n",
    "        delta_3 = a3 - y[k]\n",
    "        delta_2 = np.dot(W3.T, delta_3)[1:]\n",
    "        delta_2 = np.multiply(delta_2, tanh_der(z2))\n",
    "        delta_1 = np.dot(W2.T, delta_2)[1:]\n",
    "        delta_1 = np.multiply(delta_1, tanh_der(z1))\n",
    "\n",
    "        W1_grad +=  np.dot(delta_1, X[k,:]) ## transpose something\n",
    "        W2_grad += np.dot(delta_2, a1.T)\n",
    "        W3_grad += np.dot(delta_3, a2.T)\n",
    "    W1_grad /= N\n",
    "    W2_grad /= N\n",
    "    W3_grad /= N\n",
    "\n",
    "    W1_reg = W1 * alpha * 2\n",
    "    W1_reg[:, 0] = 0\n",
    "    W2_reg = W2 * alpha * 2\n",
    "    W2_reg[:, 0] = 0    \n",
    "    W3_reg = W3 * alpha * 2\n",
    "    W3_reg[:, 0] = 0\n",
    "\n",
    "    W1_grad += W1_reg\n",
    "    W2_grad += W2_reg\n",
    "    W3_grad += W3_reg\n",
    "    return W1_grad, W2_grad, W3_grad"
   ]
  },
  {
   "cell_type": "code",
   "execution_count": 12,
   "metadata": {},
   "outputs": [],
   "source": [
    "def update_weights(W1, W2, W3, W1_grad, W2_grad, W3_grad, lr):\n",
    "    return W1 - W1_grad * lr, W2 - W2_grad * lr, W3 - W3_grad * lr"
   ]
  },
  {
   "cell_type": "code",
   "execution_count": 13,
   "metadata": {},
   "outputs": [],
   "source": [
    "labels = []\n",
    "for label in train_labels:\n",
    "    if label == 'pos':\n",
    "        labels.append(1)\n",
    "    else:\n",
    "        labels.append(0)\n",
    "labels = np.array(labels)"
   ]
  },
  {
   "cell_type": "code",
   "execution_count": 14,
   "metadata": {},
   "outputs": [],
   "source": [
    "glove = loadGlove('glove.6B.50d.txt')"
   ]
  },
  {
   "cell_type": "code",
   "execution_count": 15,
   "metadata": {},
   "outputs": [],
   "source": [
    "vectorized_train_texts = [vectorize(x, glove) for x in tokenized_train_texts]\n",
    "train_set = np.matrix(vectorized_train_texts)"
   ]
  },
  {
   "cell_type": "code",
   "execution_count": 16,
   "metadata": {},
   "outputs": [],
   "source": [
    "LAYER1_SIZE = 200\n",
    "LAYER2_SIZE = 100\n",
    "EMBEDDING_SIZE = 50\n",
    "REG_PARAM = 0.00001\n",
    "LEARNING_RATE = 1.0"
   ]
  },
  {
   "cell_type": "code",
   "execution_count": 17,
   "metadata": {},
   "outputs": [],
   "source": [
    "W1 = initialize_weights(LAYER1_SIZE, EMBEDDING_SIZE + 1)\n",
    "W2 = initialize_weights(LAYER2_SIZE, LAYER1_SIZE + 1)\n",
    "W3 = initialize_weights(1, LAYER2_SIZE + 1)\n",
    "i = 0"
   ]
  },
  {
   "cell_type": "code",
   "execution_count": null,
   "metadata": {},
   "outputs": [],
   "source": [
    "while i < 1000:\n",
    "    if i % 100 == 0:\n",
    "        print(loss(train_set, labels, W1, W2, W3, REG_PARAM))\n",
    "    g1, g2, g3 = backpropagation(train_set, labels, W1, W2, W3, REG_PARAM)\n",
    "    W1, W2, W3 = update_weights(W1, W2, W3, g1, g2, g3, LEARNING_RATE)"
   ]
  },
  {
   "cell_type": "code",
   "execution_count": 18,
   "metadata": {},
   "outputs": [
    {
     "name": "stderr",
     "output_type": "stream",
     "text": [
      "IOPub data rate exceeded.\n",
      "The notebook server will temporarily stop sending output\n",
      "to the client in order to avoid crashing it.\n",
      "To change this limit, set the config variable\n",
      "`--NotebookApp.iopub_data_rate_limit`.\n",
      "\n",
      "Current values:\n",
      "NotebookApp.iopub_data_rate_limit=1000000.0 (bytes/sec)\n",
      "NotebookApp.rate_limit_window=3.0 (secs)\n",
      "\n"
     ]
    }
   ],
   "source": [
    "res = []\n",
    "for j, text in enumerate(vectorized_train_texts):\n",
    "    _, _, _, _, pred = feedforward(train_set[j,:], W1, W2, W3)\n",
    "    pred = np.sum(pred)\n",
    "    #print(pred)\n",
    "    if pred >= 0.5:\n",
    "        res.append('pos')\n",
    "    else:\n",
    "        res.append('neg')\n",
    "    print(res)\n",
    "print(np.sum(np.array(res) == np.array(train_labels)))"
   ]
  },
  {
   "cell_type": "code",
   "execution_count": null,
   "metadata": {},
   "outputs": [],
   "source": []
  }
 ],
 "metadata": {
  "kernelspec": {
   "display_name": "Python 3",
   "language": "python",
   "name": "python3"
  },
  "language_info": {
   "codemirror_mode": {
    "name": "ipython",
    "version": 3
   },
   "file_extension": ".py",
   "mimetype": "text/x-python",
   "name": "python",
   "nbconvert_exporter": "python",
   "pygments_lexer": "ipython3",
   "version": "3.6.4"
  }
 },
 "nbformat": 4,
 "nbformat_minor": 2
}
